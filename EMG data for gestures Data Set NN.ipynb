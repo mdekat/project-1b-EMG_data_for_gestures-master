{
 "cells": [
  {
   "cell_type": "markdown",
   "metadata": {},
   "source": [
    "# EMG data for gestures NN"
   ]
  },
  {
   "cell_type": "code",
   "execution_count": 1,
   "metadata": {},
   "outputs": [
    {
     "name": "stderr",
     "output_type": "stream",
     "text": [
      "Using TensorFlow backend.\n"
     ]
    }
   ],
   "source": [
    "## Importing libraries\n",
    "\n",
    "# Stop warnings from scikit-learn\n",
    "import warnings \n",
    "from sklearn.exceptions import DataConversionWarning\n",
    "warnings.filterwarnings(action='ignore', category=DataConversionWarning)\n",
    "\n",
    "#==== Importing libraries\n",
    "import numpy as np\n",
    "import pandas as pd\n",
    "from sklearn.model_selection import train_test_split\n",
    "from sklearn.preprocessing import StandardScaler\n",
    "from matplotlib import pyplot\n",
    "\n",
    "#Import Keras\n",
    "import keras\n",
    "from keras.utils import to_categorical\n",
    "from keras.models import Sequential\n",
    "from keras.layers import Dense\n",
    "from keras.layers import Dropout\n",
    "from keras.callbacks import EarlyStopping\n",
    "from keras.callbacks import ModelCheckpoint\n",
    "from keras.layers.normalization import BatchNormalization\n",
    "from keras.optimizers import SGD\n",
    "from keras.constraints import maxnorm\n",
    "from keras.layers import Activation"
   ]
  },
  {
   "cell_type": "code",
   "execution_count": 20,
   "metadata": {},
   "outputs": [],
   "source": [
    "## defining functions\n",
    "\n",
    "def getdata(): #========= importing data from different files\n",
    "    \n",
    "    filename = 'E:\\\\ML\\\\ML test 1 - UCI database - EMG data for gestures Data Set\\\\train_data_set2.csv'\n",
    "    dataset = pd.read_csv(filename, sep = ';')\n",
    "    X = dataset.iloc[:,:-1].values\n",
    "    y = dataset.iloc[:,-1].values\n",
    "    y = y.reshape((len(y),1))\n",
    "\n",
    "    print('Data loaded...')\n",
    "\n",
    "    return X,y\n",
    "\n",
    "def prepdata(X,y): #==== preparing data for Model\n",
    "    \n",
    "    # --- use onehotencoder on labels\n",
    "    y = to_categorical(y)\n",
    "    \n",
    "    #--- Splitting the dataset into the Training set and Test set\n",
    "    X_train, X_test, y_train, y_test = train_test_split(X, y, test_size = 0.25, random_state = 123)\n",
    "    #y.reshape((y.shape[0],1))\n",
    "    \n",
    "    #--- Feature Scaling\n",
    "    sc = StandardScaler()\n",
    "    X_train = sc.fit_transform(X_train)\n",
    "    X_test = sc.transform(X_test)\n",
    "    print('Data prepared...')\n",
    "\n",
    "    return X_train, X_test, y_train, y_test\n",
    "\n",
    "def compilemodel(indim, activationtype, dropout, outdim): #==== Preparing and fitting Model\n",
    "    \n",
    "    # Initialising Neural Network\n",
    "    model = Sequential()\n",
    "\n",
    "    # Adding layers\n",
    "    # Hidden layer 1\n",
    "    model.add(Dense(name = 'L1', kernel_initializer='uniform', units = 128, activation = activationtype, input_dim = indim, kernel_constraint=maxnorm(3)))\n",
    "    model.add(Dropout(dropout))\n",
    "    \n",
    "    #Hidden layer 2\n",
    "    model.add(Dense(name = 'L2', kernel_initializer='uniform', units = 64,  activation = activationtype, kernel_constraint=maxnorm(3)))\n",
    "    model.add(Dropout(dropout))\n",
    "    \n",
    "    #Hidden layer 3\n",
    "    model.add(Dense(name = 'L3', kernel_initializer='uniform', units = 32,  activation = activationtype, kernel_constraint=maxnorm(3)))\n",
    "    model.add(Dropout(dropout))\n",
    "    \n",
    "    # Outputlayer\n",
    "    model.add(Dense(name = 'Lout', units = outdim, kernel_initializer='uniform', activation = 'sigmoid'))\n",
    "        \n",
    "    # Compiling the Neural Network\n",
    "    sgd = SGD(lr=0.1, decay=1e-6, momentum=0.9, nesterov=True)\n",
    "    model.compile(optimizer = 'adam', loss = 'binary_crossentropy', metrics = ['accuracy'])\n",
    "    #model.summary()\n",
    "    \n",
    "    print('Model compiled...')\n",
    "    \n",
    "    return model\n",
    "\n",
    "def trainmodel(model, X_train, X_test, y_train, y_test):\n",
    "    \n",
    "    print('Model is being trained...')\n",
    "    \n",
    "    # Create EarlyStopping trigger and Modelcheck\n",
    "    #es = EarlyStopping(monitor='val_loss', mode='min', verbose=0, patience=5)\n",
    "    #mc = ModelCheckpoint('best_model.h5', monitor='val_acc', mode='max', verbose=0, save_best_only=True)\n",
    "    \n",
    "    # fit model\n",
    "    #history = model.fit(X_train, y_train, validation_data=(X_test, y_test), batch_size = bsize, epochs = eps,verbose=verb, callbacks=[es,mc])\n",
    "    #history = model.fit(X_train, y_train, validation_data=(X_test, y_test), batch_size = bsize, epochs = eps,verbose=verb, callbacks=[es])\n",
    "    history = model.fit(X_train, y_train, validation_data=(X_test, y_test), batch_size = bsize, epochs = eps,verbose=verb)\n",
    "\n",
    "    # evaluate the model\n",
    "    _, train_acc = model.evaluate(X_train, y_train, verbose=verb)\n",
    "    _, test_acc = model.evaluate(X_test, y_test, verbose=verb)\n",
    "    \n",
    "    return history, train_acc, test_acc\n",
    "\n",
    "def showresults(history, train_acc, test_acc): #=== presenting results\n",
    "    \n",
    "    print('Train: %.3f, Test: %.3f' % (train_acc, test_acc))\n",
    "    # plot loss during training\n",
    "    pyplot.subplot(211)\n",
    "    pyplot.title('Loss')\n",
    "    pyplot.plot(history.history['loss'], label='train')\n",
    "    pyplot.plot(history.history['val_loss'], label='test')\n",
    "    pyplot.legend()\n",
    "    # plot accuracy during training\n",
    "    print('\\n')\n",
    "    pyplot.subplot(212)\n",
    "    pyplot.title('Accuracy')\n",
    "    pyplot.plot(history.history['acc'], label='train')\n",
    "    pyplot.plot(history.history['val_acc'], label='test')\n",
    "    pyplot.legend()\n",
    "    pyplot.show()"
   ]
  },
  {
   "cell_type": "code",
   "execution_count": 21,
   "metadata": {},
   "outputs": [
    {
     "name": "stdout",
     "output_type": "stream",
     "text": [
      "Data loaded...\n",
      "Data prepared...\n",
      "Model compiled...\n",
      "\n",
      "Run with: indims = 64, activation = relu, dropout = 0.2, outdim = 6, batchsize = 64, epochs = 25\n",
      "Model is being trained...\n",
      "Train: 0.988, Test: 0.971\n",
      "\n",
      "\n"
     ]
    },
    {
     "data": {
      "image/png": "[encoded data removed]",
      "text/plain": [
       "<Figure size 432x288 with 2 Axes>"
      ]
     },
     "metadata": {
      "needs_background": "light"
     },
     "output_type": "display_data"
    }
   ],
   "source": [
    "# MAIN PROGRAMM\n",
    "\n",
    "#getting and prepping data\n",
    "X,y = getdata() # load data\n",
    "X_train, X_test, y_train, y_test = prepdata(X,y) # prep data\n",
    "\n",
    "# setting model variables\n",
    "indim = len(X[1])\n",
    "outdim = len(y_train[1])\n",
    "activationtype = 'relu'\n",
    "dropout = 0.2  # no dropout (= 0.0) is prone to overfitting, dropout = 0.5 has slower learning curve\n",
    "bsize = 64\n",
    "eps = 25\n",
    "verb = 0  # 0 = no output, 1 = max output, 2 = min output\n",
    "\n",
    "#compiling and running model\n",
    "model = compilemodel(indim, activationtype, dropout, outdim) # compile model\n",
    "print('\\nRun with: indims = {}, activation = {}, dropout = {}, outdim = {}, batchsize = {}, epochs = {}'.format(indim,activationtype,dropout,outdim,bsize,eps))\n",
    "history, train_acc, test_acc = trainmodel(model, X_train, X_test, y_train, y_test) # compile and run model\n",
    "showresults(history, train_acc, test_acc) # show results"
   ]
  }
 ],
 "metadata": {
  "kernelspec": {
   "display_name": "Python 3",
   "language": "python",
   "name": "python3"
  },
  "language_info": {
   "codemirror_mode": {
    "name": "ipython",
    "version": 3
   },
   "file_extension": ".py",
   "mimetype": "text/x-python",
   "name": "python",
   "nbconvert_exporter": "python",
   "pygments_lexer": "ipython3",
   "version": "3.7.3"
  }
 },
 "nbformat": 4,
 "nbformat_minor": 2
}
